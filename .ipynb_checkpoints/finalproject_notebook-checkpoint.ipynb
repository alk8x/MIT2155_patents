{
 "cells": [
  {
   "cell_type": "code",
   "execution_count": 1,
   "metadata": {},
   "outputs": [],
   "source": [
    "# python code for project"
   ]
  },
  {
   "cell_type": "code",
   "execution_count": 2,
   "metadata": {},
   "outputs": [
    {
     "name": "stderr",
     "output_type": "stream",
     "text": [
      "[nltk_data] Downloading package punkt to\n",
      "[nltk_data]     C:\\Users\\allis\\AppData\\Roaming\\nltk_data...\n",
      "[nltk_data]   Package punkt is already up-to-date!\n",
      "[nltk_data] Downloading package stopwords to\n",
      "[nltk_data]     C:\\Users\\allis\\AppData\\Roaming\\nltk_data...\n",
      "[nltk_data]   Package stopwords is already up-to-date!\n"
     ]
    },
    {
     "data": {
      "text/plain": [
       "True"
      ]
     },
     "execution_count": 2,
     "metadata": {},
     "output_type": "execute_result"
    }
   ],
   "source": [
    "import nltk\n",
    "from nltk.tokenize import word_tokenize\n",
    "from nltk.corpus import stopwords\n",
    "from nltk.stem import PorterStemmer\n",
    "from tqdm import tqdm # progress bar\n",
    "\n",
    "nltk.download('punkt')\n",
    "nltk.download('stopwords')\n",
    "#  use image processing libraries like OpenCV and deep learning techniques (e.g., convolutional neural networks) to compare images."
   ]
  },
  {
   "cell_type": "code",
   "execution_count": 6,
   "metadata": {},
   "outputs": [
    {
     "name": "stdout",
     "output_type": "stream",
     "text": [
      "['\"patent_id\"\\t\"description_text\"\\t\"description_length\"\\n', '\"11540434\"\\t\"Repeat use of reference characters in the present specification and drawings is intended to represent the same or analogous features or elements of the present technology.\\n', '\\n', 'DETAILED DESCRIPTION OF THE DRAWINGS\\n', '\\n', 'Reference now will be made in detail to embodiments of the invention, one or more examples of which are illustrated in the drawings. Each example is provided by way of explanation of the invention, not limitation of the invention. In fact, it will be apparent to those skilled in the art that various modifications and variations can be made in the present invention without departing from the scope or spirit of the invention. For instance, features illustrated or described as part of one embodiment can be used with another embodiment to yield a still further embodiment. Thus, it is intended that the present invention covers such modifications and variations as come within the scope of the appended claims and their equivalents.\\n', '\\n', 'In general, the present subject matter is directed to cultivating discs for tillage implements. Specifically, in several embodiments, one or more cultivating discs may include an attachment portion at a radial center of the cultivating disc, a cutting edge portion at an outer edge of the cultivating disc and parallel to the attachment portion, and a curved connecting portion between the attachment portion and the cutting edge portion. In several embodiments, the cutting edge portion parallel to the attachment portion may decrease soil compaction caused by the cultivating disc(s). For instance, such a parallel cutting edge portion may reduce or eliminate the surface area of the cutting edge portion on a convex side of the cultivating disc(s) that contacts the soil. Soil compaction may generally be undesirable during a cultivating operation. Reducing soil compaction may additionally be associated with reducing a backside pressure on the cultivating disc(s) and thus improve the lifespan of the cultivating disc(s). Further, the curved connecting portion may allow the cultivating disc(s) to lift and throw residue and soil broken up by the cutting edge portion. Additionally, the curved connecting portion may increase the strength of the cultivating disc(s) as compared to straight cultivating discs.\\n', '\\n', 'Referring now to the drawings.FIGS.1and2illustrate differing perspective views of one embodiment of an agricultural implement10in accordance with aspects of the present subject matter. Specifically,FIG.1illustrates a perspective view of the agricultural implement10coupled to a work vehicle12. Additionally,FIG.2illustrates a perspective view of the implement10, particularly illustrating various components of the implement10.\\n']\n"
     ]
    }
   ],
   "source": [
    "file_path = \"g_detail_desc_text_2023.tsv\"\n",
    "\n",
    "# Read the TSV file\n",
    "with open(file_path, 'r', encoding='utf-8') as file:\n",
    "    file_content = file.readlines()\n",
    "    \n",
    "print(file_content[:10])\n",
    "\n",
    "# # Extract the patent descriptions from the TSV content\n",
    "# patent_data = []\n",
    "\n",
    "# for line in tqdm(file_content, desc=\"Processing\", unit=\"lines\"):\n",
    "#     # Assuming your TSV file has tab-separated columns and the description is in the first column\n",
    "#     columns = line.strip().split('\\t')\n",
    "#     if len(columns) >= 1:\n",
    "#         patent_description = columns[0]  # Modify the index if the description is in a different column\n",
    "#         patent_data.append(patent_description)\n",
    "        "
   ]
  },
  {
   "cell_type": "code",
   "execution_count": 5,
   "metadata": {},
   "outputs": [
    {
     "name": "stdout",
     "output_type": "stream",
     "text": [
      "Entry 1: \"patent_id\"\n",
      "Entry 2: \"11540434\"\n",
      "Entry 3: \n",
      "Entry 4: DETAILED DESCRIPTION OF THE DRAWINGS\n",
      "Entry 5: \n",
      "Entry 6: Reference now will be made in detail to embodiments of the invention, one or more examples of which are illustrated in the drawings. Each example is provided by way of explanation of the invention, not limitation of the invention. In fact, it will be apparent to those skilled in the art that various modifications and variations can be made in the present invention without departing from the scope or spirit of the invention. For instance, features illustrated or described as part of one embodiment can be used with another embodiment to yield a still further embodiment. Thus, it is intended that the present invention covers such modifications and variations as come within the scope of the appended claims and their equivalents.\n",
      "Entry 7: \n",
      "Entry 8: In general, the present subject matter is directed to cultivating discs for tillage implements. Specifically, in several embodiments, one or more cultivating discs may include an attachment portion at a radial center of the cultivating disc, a cutting edge portion at an outer edge of the cultivating disc and parallel to the attachment portion, and a curved connecting portion between the attachment portion and the cutting edge portion. In several embodiments, the cutting edge portion parallel to the attachment portion may decrease soil compaction caused by the cultivating disc(s). For instance, such a parallel cutting edge portion may reduce or eliminate the surface area of the cutting edge portion on a convex side of the cultivating disc(s) that contacts the soil. Soil compaction may generally be undesirable during a cultivating operation. Reducing soil compaction may additionally be associated with reducing a backside pressure on the cultivating disc(s) and thus improve the lifespan of the cultivating disc(s). Further, the curved connecting portion may allow the cultivating disc(s) to lift and throw residue and soil broken up by the cutting edge portion. Additionally, the curved connecting portion may increase the strength of the cultivating disc(s) as compared to straight cultivating discs.\n",
      "Entry 9: \n",
      "Entry 10: Referring now to the drawings.FIGS.1and2illustrate differing perspective views of one embodiment of an agricultural implement10in accordance with aspects of the present subject matter. Specifically,FIG.1illustrates a perspective view of the agricultural implement10coupled to a work vehicle12. Additionally,FIG.2illustrates a perspective view of the implement10, particularly illustrating various components of the implement10.\n"
     ]
    }
   ],
   "source": [
    "# Printing the first 10 entries in the patent_data list\n",
    "for i, description in enumerate(patent_data[:10]):  # Change 10 to the number of entries you want to print\n",
    "    print(f\"Entry {i + 1}: {description}\")\n"
   ]
  },
  {
   "cell_type": "code",
   "execution_count": null,
   "metadata": {},
   "outputs": [],
   "source": []
  }
 ],
 "metadata": {
  "kernelspec": {
   "display_name": "Python 3 (ipykernel)",
   "language": "python",
   "name": "python3"
  },
  "language_info": {
   "codemirror_mode": {
    "name": "ipython",
    "version": 3
   },
   "file_extension": ".py",
   "mimetype": "text/x-python",
   "name": "python",
   "nbconvert_exporter": "python",
   "pygments_lexer": "ipython3",
   "version": "3.11.5"
  }
 },
 "nbformat": 4,
 "nbformat_minor": 2
}
